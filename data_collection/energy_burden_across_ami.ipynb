{
 "cells": [
  {
   "cell_type": "code",
   "execution_count": 2,
   "metadata": {},
   "outputs": [],
   "source": [
    "import os\n",
    "import requests\n",
    "import pandas as pd\n",
    "import json"
   ]
  },
  {
   "cell_type": "code",
   "execution_count": 18,
   "metadata": {},
   "outputs": [],
   "source": [
    "# DOE LEAD API\n",
    "DOE_LEAD_URL = \"https://lead.openei.org/api/geographies\"\n",
    "\n",
    "# Outputs directory\n",
    "outdir_json = \"outputs/JSON\"\n",
    "outdir_csv = \"outputs/CSV\""
   ]
  },
  {
   "cell_type": "code",
   "execution_count": 9,
   "metadata": {},
   "outputs": [],
   "source": [
    "# read all Michigan census tracts\n",
    "mi_tract_f = open(\"data/mi_census_tracts.csv\", \"r\")\n",
    "mi_tracts_raw = mi_tract_f.readlines()\n",
    "mi_tract_f.close()\n",
    "\n",
    "# go through each record and append MI census tract to a list\n",
    "mi_tracts = []\n",
    "for row in mi_tracts_raw[1:]:\n",
    "   row = row.rstrip(\"\\n\")\n",
    "   data = row.split(\",\")\n",
    "   geoid = data[0]\n",
    "   county = data[1]\n",
    "   state = data[2]\n",
    "\n",
    "   mi_tracts.append(geoid)\n",
    "# Create a string comma separated (no whitespace) of MI census tracts\n",
    "mi_tracts_str = (\",\").join(mi_tracts)"
   ]
  },
  {
   "cell_type": "code",
   "execution_count": 12,
   "metadata": {},
   "outputs": [],
   "source": [
    "mi_tracts_str"
   ]
  },
  {
   "cell_type": "code",
   "execution_count": null,
   "metadata": {},
   "outputs": [],
   "source": [
    "# Request average energy burden across all AMI groups\n",
    "resp = requests.post(\n",
    "   DOE_LEAD_URL,\n",
    "   json = {\n",
    "      \"type\": \"census-tracts\", # Make sure to include type: \"census-tracts\" in post requests to get data by census tracts\n",
    "      \"geoids\": mi_tracts_str, # all MI census tracts\n",
    "      \"ami\": [\"0-30\", \"30-60\", \"60-80\", \"80-100\", \"100+\"] # Data will be aggregated across all AMI groups requested\n",
    "   }\n",
    ")\n",
    "\n",
    "# Get JSON data from HTTP response\n",
    "data = resp.json()"
   ]
  },
  {
   "cell_type": "code",
   "execution_count": 16,
   "metadata": {},
   "outputs": [],
   "source": [
    "# Serialize JSON data as a string\n",
    "data_serialized = json.dumps(data, indent = 3)\n",
    "# Write out JSON data\n",
    "out_f = open(f'{outdir_json}/mi_all_ami.json', \"w\")\n",
    "out_f.write(data_serialized)\n",
    "out_f.close()"
   ]
  },
  {
   "cell_type": "code",
   "execution_count": null,
   "metadata": {},
   "outputs": [],
   "source": [
    "# All possible AMI groups\n",
    "ami = [\"0-30\", \"30-60\", \"60-80\", \"80-100\", \"100+\"]\n",
    "# Request energy burden data per group\n",
    "for ami_grp in ami:\n",
    "   # HTTP post request for energy burden across all MI census tracts for a specific AMI group\n",
    "   resp = requests.post(\n",
    "      DOE_LEAD_URL,\n",
    "      json = {\n",
    "         \"type\": \"census-tracts\", # Make sure to include type: \"census-tracts\" in post requests to get data by census tracts\n",
    "         \"geoids\": mi_tracts_str, # This should be a string of census tract geoids comma separated no whitespace\n",
    "         \"ami\": [ami_grp] # Data will be aggregated across all AMI groups requested\n",
    "      }\n",
    "   )\n",
    "\n",
    "   print(f'{ami_grp} {resp.status_code}')\n",
    "   # Get JSON data from HTTP response\n",
    "   data = resp.json()\n",
    "   # Serialize JSON data\n",
    "   data_serialized = json.dumps(data, indent = 3)\n",
    "   # Write JSON data out\n",
    "   out_f = open(f'{outputs}/mi_ami_{ami_grp}.json', \"w\")\n",
    "   out_f.write(data_serialized)\n",
    "   out_f.close()\n"
   ]
  },
  {
   "cell_type": "code",
   "execution_count": null,
   "metadata": {},
   "outputs": [],
   "source": []
  },
  {
   "cell_type": "code",
   "execution_count": 22,
   "metadata": {},
   "outputs": [
    {
     "name": "stdout",
     "output_type": "stream",
     "text": [
      "outputs/JSON/mi_ami_30-60.json\n",
      "Writing outputs/CSV/mi_ami_30-60.csv\n",
      "outputs/JSON/mi_ami_80-100.json\n",
      "Writing outputs/CSV/mi_ami_80-100.csv\n",
      "outputs/JSON/mi_ami_100+.json\n",
      "Writing outputs/CSV/mi_ami_100+.csv\n",
      "outputs/JSON/mi_ami_60-80.json\n",
      "Writing outputs/CSV/mi_ami_60-80.csv\n",
      "outputs/JSON/mi_ami_0-30.json\n",
      "Writing outputs/CSV/mi_ami_0-30.csv\n",
      "DONE\n"
     ]
    }
   ],
   "source": [
    "# Clean JSON data and structure as CSV\n",
    "json_files = os.listdir(outdir_json)\n",
    "\n",
    "for in_file in json_files:\n",
    "   print(f'{outdir_json}/{in_file}')\n",
    "   f = open(f'{outdir_json}/{in_file}')\n",
    "   data = f.read()\n",
    "   f.close()\n",
    "\n",
    "   data = json.loads(data)\n",
    "   total_items = data['total_items']\n",
    "   items = data['items']\n",
    "\n",
    "   df = pd.DataFrame.from_dict(items)\n",
    "   outfilename = f'{in_file[:-5]}.csv'\n",
    "   print(f'Writing {os.path.join(outdir_csv, outfilename)}')\n",
    "   df.to_csv(os.path.join(outdir_csv, outfilename), index=False)\n",
    "print(\"DONE\")"
   ]
  }
 ],
 "metadata": {
  "kernelspec": {
   "display_name": "Python 3",
   "language": "python",
   "name": "python3"
  },
  "language_info": {
   "codemirror_mode": {
    "name": "ipython",
    "version": 3
   },
   "file_extension": ".py",
   "mimetype": "text/x-python",
   "name": "python",
   "nbconvert_exporter": "python",
   "pygments_lexer": "ipython3",
   "version": "3.11.2"
  },
  "orig_nbformat": 4
 },
 "nbformat": 4,
 "nbformat_minor": 2
}
